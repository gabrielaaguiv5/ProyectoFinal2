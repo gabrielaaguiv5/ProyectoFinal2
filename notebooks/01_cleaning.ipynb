{
  "nbformat": 4,
  "nbformat_minor": 0,
  "metadata": {
    "colab": {
      "provenance": [],
      "include_colab_link": true
    },
    "kernelspec": {
      "name": "python3",
      "display_name": "Python 3"
    },
    "language_info": {
      "name": "python"
    }
  },
  "cells": [
    {
      "cell_type": "markdown",
      "metadata": {
        "id": "view-in-github",
        "colab_type": "text"
      },
      "source": [
        "<a href=\"https://colab.research.google.com/github/gabrielaaguiv5/ProyectoFinal2/blob/main/notebooks/01_cleaning.ipynb\" target=\"_parent\"><img src=\"https://colab.research.google.com/assets/colab-badge.svg\" alt=\"Open In Colab\"/></a>"
      ]
    },
    {
      "cell_type": "code",
      "execution_count": 1,
      "metadata": {
        "id": "IXC6A_V6YCiI",
        "outputId": "a3dd8ab1-11ba-48cb-8042-a9f1204271f6",
        "colab": {
          "base_uri": "https://localhost:8080/",
          "height": 356
        }
      },
      "outputs": [
        {
          "output_type": "error",
          "ename": "ValueError",
          "evalue": "No objects to concatenate",
          "traceback": [
            "\u001b[0;31m---------------------------------------------------------------------------\u001b[0m",
            "\u001b[0;31mValueError\u001b[0m                                Traceback (most recent call last)",
            "\u001b[0;32m/tmp/ipython-input-66273431.py\u001b[0m in \u001b[0;36m<cell line: 0>\u001b[0;34m()\u001b[0m\n\u001b[1;32m     43\u001b[0m \u001b[0;34m\u001b[0m\u001b[0m\n\u001b[1;32m     44\u001b[0m \u001b[0;31m# 5️⃣ Unir todos los chats en un solo DataFrame\u001b[0m\u001b[0;34m\u001b[0m\u001b[0;34m\u001b[0m\u001b[0m\n\u001b[0;32m---> 45\u001b[0;31m \u001b[0mdf_all\u001b[0m \u001b[0;34m=\u001b[0m \u001b[0mpd\u001b[0m\u001b[0;34m.\u001b[0m\u001b[0mconcat\u001b[0m\u001b[0;34m(\u001b[0m\u001b[0mall_chats\u001b[0m\u001b[0;34m,\u001b[0m \u001b[0mignore_index\u001b[0m\u001b[0;34m=\u001b[0m\u001b[0;32mTrue\u001b[0m\u001b[0;34m)\u001b[0m\u001b[0;34m\u001b[0m\u001b[0;34m\u001b[0m\u001b[0m\n\u001b[0m\u001b[1;32m     46\u001b[0m \u001b[0;34m\u001b[0m\u001b[0m\n\u001b[1;32m     47\u001b[0m \u001b[0;31m# 6️⃣ Eliminar mensajes del sistema (como “Los mensajes y las llamadas están cifrados...”)\u001b[0m\u001b[0;34m\u001b[0m\u001b[0;34m\u001b[0m\u001b[0m\n",
            "\u001b[0;32m/usr/local/lib/python3.12/dist-packages/pandas/core/reshape/concat.py\u001b[0m in \u001b[0;36mconcat\u001b[0;34m(objs, axis, join, ignore_index, keys, levels, names, verify_integrity, sort, copy)\u001b[0m\n\u001b[1;32m    380\u001b[0m         \u001b[0mcopy\u001b[0m \u001b[0;34m=\u001b[0m \u001b[0;32mFalse\u001b[0m\u001b[0;34m\u001b[0m\u001b[0;34m\u001b[0m\u001b[0m\n\u001b[1;32m    381\u001b[0m \u001b[0;34m\u001b[0m\u001b[0m\n\u001b[0;32m--> 382\u001b[0;31m     op = _Concatenator(\n\u001b[0m\u001b[1;32m    383\u001b[0m         \u001b[0mobjs\u001b[0m\u001b[0;34m,\u001b[0m\u001b[0;34m\u001b[0m\u001b[0;34m\u001b[0m\u001b[0m\n\u001b[1;32m    384\u001b[0m         \u001b[0maxis\u001b[0m\u001b[0;34m=\u001b[0m\u001b[0maxis\u001b[0m\u001b[0;34m,\u001b[0m\u001b[0;34m\u001b[0m\u001b[0;34m\u001b[0m\u001b[0m\n",
            "\u001b[0;32m/usr/local/lib/python3.12/dist-packages/pandas/core/reshape/concat.py\u001b[0m in \u001b[0;36m__init__\u001b[0;34m(self, objs, axis, join, keys, levels, names, ignore_index, verify_integrity, copy, sort)\u001b[0m\n\u001b[1;32m    443\u001b[0m         \u001b[0mself\u001b[0m\u001b[0;34m.\u001b[0m\u001b[0mcopy\u001b[0m \u001b[0;34m=\u001b[0m \u001b[0mcopy\u001b[0m\u001b[0;34m\u001b[0m\u001b[0;34m\u001b[0m\u001b[0m\n\u001b[1;32m    444\u001b[0m \u001b[0;34m\u001b[0m\u001b[0m\n\u001b[0;32m--> 445\u001b[0;31m         \u001b[0mobjs\u001b[0m\u001b[0;34m,\u001b[0m \u001b[0mkeys\u001b[0m \u001b[0;34m=\u001b[0m \u001b[0mself\u001b[0m\u001b[0;34m.\u001b[0m\u001b[0m_clean_keys_and_objs\u001b[0m\u001b[0;34m(\u001b[0m\u001b[0mobjs\u001b[0m\u001b[0;34m,\u001b[0m \u001b[0mkeys\u001b[0m\u001b[0;34m)\u001b[0m\u001b[0;34m\u001b[0m\u001b[0;34m\u001b[0m\u001b[0m\n\u001b[0m\u001b[1;32m    446\u001b[0m \u001b[0;34m\u001b[0m\u001b[0m\n\u001b[1;32m    447\u001b[0m         \u001b[0;31m# figure out what our result ndim is going to be\u001b[0m\u001b[0;34m\u001b[0m\u001b[0;34m\u001b[0m\u001b[0m\n",
            "\u001b[0;32m/usr/local/lib/python3.12/dist-packages/pandas/core/reshape/concat.py\u001b[0m in \u001b[0;36m_clean_keys_and_objs\u001b[0;34m(self, objs, keys)\u001b[0m\n\u001b[1;32m    505\u001b[0m \u001b[0;34m\u001b[0m\u001b[0m\n\u001b[1;32m    506\u001b[0m         \u001b[0;32mif\u001b[0m \u001b[0mlen\u001b[0m\u001b[0;34m(\u001b[0m\u001b[0mobjs_list\u001b[0m\u001b[0;34m)\u001b[0m \u001b[0;34m==\u001b[0m \u001b[0;36m0\u001b[0m\u001b[0;34m:\u001b[0m\u001b[0;34m\u001b[0m\u001b[0;34m\u001b[0m\u001b[0m\n\u001b[0;32m--> 507\u001b[0;31m             \u001b[0;32mraise\u001b[0m \u001b[0mValueError\u001b[0m\u001b[0;34m(\u001b[0m\u001b[0;34m\"No objects to concatenate\"\u001b[0m\u001b[0;34m)\u001b[0m\u001b[0;34m\u001b[0m\u001b[0;34m\u001b[0m\u001b[0m\n\u001b[0m\u001b[1;32m    508\u001b[0m \u001b[0;34m\u001b[0m\u001b[0m\n\u001b[1;32m    509\u001b[0m         \u001b[0;32mif\u001b[0m \u001b[0mkeys\u001b[0m \u001b[0;32mis\u001b[0m \u001b[0;32mNone\u001b[0m\u001b[0;34m:\u001b[0m\u001b[0;34m\u001b[0m\u001b[0;34m\u001b[0m\u001b[0m\n",
            "\u001b[0;31mValueError\u001b[0m: No objects to concatenate"
          ]
        }
      ],
      "source": [
        "# =========================================================\n",
        "#  SmartChat Insight - 01_cleaning.ipynb\n",
        "#  Limpieza y estructuración de archivos .txt exportados de WhatsApp\n",
        "# =========================================================\n",
        "\n",
        "# 1️⃣ Importar librerías necesarias\n",
        "import re\n",
        "import pandas as pd\n",
        "from pathlib import Path\n",
        "\n",
        "# 2️⃣ Definir ruta de entrada y salida\n",
        "raw_path = Path(\"data/raw_chats/\")\n",
        "clean_path = Path(\"data/cleaned/\")\n",
        "clean_path.mkdir(parents=True, exist_ok=True)\n",
        "\n",
        "# 3️⃣ Función para leer y limpiar un archivo de chat\n",
        "def parse_whatsapp_chat(file_path):\n",
        "    \"\"\"\n",
        "    Convierte un archivo .txt exportado de WhatsApp en un DataFrame estructurado.\n",
        "    Columnas: date, time, user, message\n",
        "    \"\"\"\n",
        "    pattern = re.compile(r\"^(\\d{1,2}/\\d{1,2}/\\d{2,4}), (\\d{1,2}:\\d{2}\\s?[ap]\\.?\\s?m\\.?) - (.*?): (.*)\")\n",
        "    data = []\n",
        "\n",
        "    with open(file_path, encoding=\"utf-8\") as f:\n",
        "        for line in f:\n",
        "            line = line.strip()\n",
        "            match = pattern.match(line)\n",
        "            if match:\n",
        "                date, time, user, message = match.groups()\n",
        "                data.append([date, time, user.strip(), message.strip()])\n",
        "\n",
        "    df = pd.DataFrame(data, columns=[\"date\", \"time\", \"user\", \"message\"])\n",
        "    return df\n",
        "\n",
        "# 4️⃣ Procesar todos los archivos .txt en la carpeta data/raw_chats/\n",
        "all_chats = []\n",
        "for file in raw_path.glob(\"*.txt\"):\n",
        "    print(f\"Procesando {file.name} ...\")\n",
        "    df_chat = parse_whatsapp_chat(file)\n",
        "    df_chat[\"file_name\"] = file.name\n",
        "    all_chats.append(df_chat)\n",
        "\n",
        "# 5️⃣ Unir todos los chats en un solo DataFrame\n",
        "df_all = pd.concat(all_chats, ignore_index=True)\n",
        "\n",
        "# 6️⃣ Eliminar mensajes del sistema (como “Los mensajes y las llamadas están cifrados...”)\n",
        "df_all = df_all[~df_all[\"message\"].str.contains(\"cifrados de extremo a extremo\", na=False)]\n",
        "\n",
        "# 7️⃣ Normalizar nombres y fechas\n",
        "df_all[\"date\"] = pd.to_datetime(df_all[\"date\"], dayfirst=True, errors=\"coerce\")\n",
        "df_all[\"time\"] = df_all[\"time\"].str.replace(\" \", \" \")  # limpiar espacios Unicode\n",
        "\n",
        "# 8️⃣ Guardar resultado limpio\n",
        "output_file = clean_path / \"whatsapp_clean.csv\"\n",
        "df_all.to_csv(output_file, index=False, encoding=\"utf-8-sig\")\n",
        "\n",
        "print(f\"✅ Archivo limpio guardado en: {output_file}\")\n",
        "print(f\"Total de mensajes procesados: {len(df_all)}\")\n",
        "\n",
        "# 9️⃣ Vista previa\n",
        "df_all.head(10)\n"
      ]
    }
  ]
}